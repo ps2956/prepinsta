{
  "nbformat": 4,
  "nbformat_minor": 0,
  "metadata": {
    "colab": {
      "provenance": [],
      "authorship_tag": "ABX9TyMnedm+6rrJdJf8ksE/TujU",
      "include_colab_link": true
    },
    "kernelspec": {
      "name": "python3",
      "display_name": "Python 3"
    },
    "language_info": {
      "name": "python"
    }
  },
  "cells": [
    {
      "cell_type": "markdown",
      "metadata": {
        "id": "view-in-github",
        "colab_type": "text"
      },
      "source": [
        "<a href=\"https://colab.research.google.com/github/netragangurde/-Prepinsta/blob/main/Frog_Leap_Problem_Statement.ipynb\" target=\"_parent\"><img src=\"https://colab.research.google.com/assets/colab-badge.svg\" alt=\"Open In Colab\"/></a>"
      ]
    },
    {
      "cell_type": "markdown",
      "source": [
        "### Problem statement"
      ],
      "metadata": {
        "id": "3RI1jaxjqfaf"
      }
    },
    {
      "cell_type": "markdown",
      "source": [
        "Create famous 'Frog leap' puzzle game. Try completing the game before starting to get an idea about its working"
      ],
      "metadata": {
        "id": "wvxnnSucqimg"
      }
    },
    {
      "cell_type": "markdown",
      "source": [
        "Rules"
      ],
      "metadata": {
        "id": "uwnPml_Cq9nv"
      }
    },
    {
      "cell_type": "markdown",
      "source": [
        "\n",
        "1. The left set of frogs can only move right, the right set of frogs can only move left.\n",
        "2. Frogs can move forward one space, or move two spaces by jumping over another frog from opposite side.\n",
        "3. The puzzle is solved when the two sets of frogs have switched positions."
      ],
      "metadata": {
        "id": "0rxGcMfMrWaC"
      }
    },
    {
      "cell_type": "markdown",
      "source": [
        "Steps to solve the problem:\n",
        "\n",
        "Step1:-\n",
        "\n",
        "Display green and brown frogs on the left and right sides initially.\n",
        "\n",
        "Initial Display :-"
      ],
      "metadata": {
        "id": "rzCGT2jZrwgS"
      }
    },
    {
      "cell_type": "code",
      "source": [
        "[ 0 ,  1 ,  2 ,  3 ,  4 ,  5 ,  6 ]\n",
        "['G', 'G', 'G', '-', 'B', 'B', 'B']\n"
      ],
      "metadata": {
        "id": "e96X5sPCsGoL"
      },
      "execution_count": null,
      "outputs": []
    },
    {
      "cell_type": "markdown",
      "source": [
        "Here 'G' represents Green frogs on the left side and 'B' represents brown frogs on the right side. The '-' defines the position of empty leaf. (You can change display according to your imagination or convinience)\n",
        "\n",
        "Step2:-\n",
        "\n",
        "Accept positions of the frog that you want to move.\n",
        "\n",
        "Example: If we enter position 2 then the game will look like this:-"
      ],
      "metadata": {
        "id": "S3l-sko-sSsP"
      }
    },
    {
      "cell_type": "code",
      "source": [
        "[ 0 ,  1 ,  2 ,  3 ,  4 ,  5 ,  6 ]\n",
        "['G', 'G', '-', 'G', 'B', 'B', 'B']"
      ],
      "metadata": {
        "id": "Uoynr1lmsbeF"
      },
      "execution_count": null,
      "outputs": []
    },
    {
      "cell_type": "markdown",
      "source": [
        "Step3:-\n",
        "Define Invalid moves and add conditional 'if' statements accordingly\n",
        "\n",
        "Rules\n",
        "1. Entered position should be between 0 to 6. Or a character 'q' to quit the game.\n",
        "2. Entered position cannot be the position of empty leaf.\n",
        "3. If the selected frog position cannot perform the contraints given in rule 2 then the move is invalid.\n",
        "\n",
        "Step4:-\n",
        "\n",
        "Make the appropriate move by changing the game display."
      ],
      "metadata": {
        "id": "gsdAVwCRsknW"
      }
    },
    {
      "cell_type": "markdown",
      "source": [
        "\n",
        "# Step 1\n",
        "First create a list positions which contains the characters 'G','B' and '-' in the same sequence as given in the initial display state."
      ],
      "metadata": {
        "id": "7KpoHoaGs171"
      }
    },
    {
      "cell_type": "code",
      "source": [
        "### your code here\n",
        "\n",
        "positions = ['G', 'G', 'G', '-', 'B', 'B', 'B']\n",
        "print(positions)"
      ],
      "metadata": {
        "colab": {
          "base_uri": "https://localhost:8080/"
        },
        "id": "saUGTaimtWAV",
        "outputId": "2a1664da-3600-4b22-dfee-d23ccb1c4a73"
      },
      "execution_count": null,
      "outputs": [
        {
          "output_type": "stream",
          "name": "stdout",
          "text": [
            "['G', 'G', 'G', '-', 'B', 'B', 'B']\n"
          ]
        }
      ]
    },
    {
      "cell_type": "markdown",
      "source": [
        "Now print this string [ 0 , 1 , 2 , 3 , 4 , 5 , 6 ] and after that print the list positions"
      ],
      "metadata": {
        "id": "1XJwJWwBtxjN"
      }
    },
    {
      "cell_type": "code",
      "source": [
        "### your code here\n",
        "\n",
        "print(\"#### Always enter the values less than 7 ####\")\n",
        "print(\"[ 0 ,  1 ,  2 ,  3 ,  4 ,  5 ,  6 ]\")\n",
        "print(positions)"
      ],
      "metadata": {
        "colab": {
          "base_uri": "https://localhost:8080/"
        },
        "id": "enhoym9At5xv",
        "outputId": "d1b70a3a-c1bb-4d2c-8c8f-9502be5c2c52"
      },
      "execution_count": null,
      "outputs": [
        {
          "output_type": "stream",
          "name": "stdout",
          "text": [
            "#### Always enter the values less than 7 ####\n",
            "[ 0 ,  1 ,  2 ,  3 ,  4 ,  5 ,  6 ]\n",
            "['G', 'G', 'G', '-', 'B', 'B', 'B']\n"
          ]
        }
      ]
    },
    {
      "cell_type": "markdown",
      "source": [
        "Take position input from user and write a message as\n",
        "\n",
        "```\n",
        "# \"Press q to quit else \\nEnter position of piece:\"\n",
        "```\n",
        "\n",
        "\n",
        "\n"
      ],
      "metadata": {
        "id": "nalxn4FNuPQs"
      }
    },
    {
      "cell_type": "code",
      "source": [
        "### your code here\n",
        "\n",
        "pos = input(\"Press q to quit \\n Enter position of piece: \")"
      ],
      "metadata": {
        "id": "lHjyMAPmwDcw",
        "colab": {
          "base_uri": "https://localhost:8080/"
        },
        "outputId": "26a92c8e-de22-49d6-9cbe-45d7d3515938"
      },
      "execution_count": null,
      "outputs": [
        {
          "name": "stdout",
          "output_type": "stream",
          "text": [
            "Press q to quit \n",
            " Enter position of piece: 2\n"
          ]
        }
      ]
    },
    {
      "cell_type": "markdown",
      "source": [
        "Now the taken input is in string format. So first check if the input is```q``` character. If input is ```q``` then the person is quiting the game so print\n",
        "```'You Lose'```\n",
        "\n",
        "\n",
        "\n",
        "  \n",
        "\n"
      ],
      "metadata": {
        "id": "ZDdAn9vMUf-m"
      }
    },
    {
      "cell_type": "code",
      "source": [
        "### your code here\n",
        "\n",
        "if pos == 'q':\n",
        "  print(\"You Lose\")"
      ],
      "metadata": {
        "id": "1cmGUHWaWMxO"
      },
      "execution_count": null,
      "outputs": []
    },
    {
      "cell_type": "markdown",
      "source": [
        "Next if input character is not ```q``` then it has to be some integer. so convert input to integer format.\n",
        "\n"
      ],
      "metadata": {
        "id": "b_aJ79vNWh3-"
      }
    },
    {
      "cell_type": "code",
      "source": [
        "### your code\n",
        "pos = int(input())"
      ],
      "metadata": {
        "colab": {
          "base_uri": "https://localhost:8080/"
        },
        "id": "665lKHoaX0so",
        "outputId": "b89fb063-9334-4644-d070-ae6dedd8a165"
      },
      "execution_count": null,
      "outputs": [
        {
          "name": "stdout",
          "output_type": "stream",
          "text": [
            "2\n"
          ]
        }
      ]
    },
    {
      "cell_type": "markdown",
      "source": [
        "# Step 2\n",
        "\n",
        "Now we have to check validity of the selected positions or move.\n",
        "If the entered number isn't between 0 and 6, then print 'Invalid move'."
      ],
      "metadata": {
        "id": "jn3FuMnmX-sQ"
      }
    },
    {
      "cell_type": "code",
      "source": [
        "### your code here\n",
        "\n",
        "if pos < 0 or 6 < pos:\n",
        "  print(\"Invalid Move\")"
      ],
      "metadata": {
        "id": "XdHs9lthYvgl"
      },
      "execution_count": null,
      "outputs": []
    },
    {
      "cell_type": "markdown",
      "source": [
        "A frog should be present on the selected position to make a move. If leaf is selected then it doesn't make sense. Therefore, if entered postition is same as the postition of empty leaf then the move is invalid and print```Invalid Move```\n",
        "\n"
      ],
      "metadata": {
        "id": "THpg3pathnkX"
      }
    },
    {
      "cell_type": "code",
      "source": [
        "### your code here\n",
        "\n",
        "if positions[pos] == '_':\n",
        "  print(\"Invalid Move\")"
      ],
      "metadata": {
        "id": "NpduBQA5hyqm"
      },
      "execution_count": null,
      "outputs": []
    },
    {
      "cell_type": "markdown",
      "source": [
        "Initialize a variable named```pos2```at value 0, to store the index of empty leaf, so that we can use it later."
      ],
      "metadata": {
        "id": "dFsk8FQRh42K"
      }
    },
    {
      "cell_type": "code",
      "source": [
        "#your code here\n"
      ],
      "metadata": {
        "id": "j9R9aKqaiIMa"
      },
      "execution_count": null,
      "outputs": []
    },
    {
      "cell_type": "code",
      "source": [
        "Check if the selected frog is 'G':\n",
        "\n",
        "        (Inside if when it's 'G'. As 'G' is selected frog can move to right only.)\n",
        "\n",
        "        ❗condition 1\n",
        "\n",
        "        If **selected_position + 1** is less than or equal to 6 and **curent_position + 1** contains '-'\n",
        "        then it's a valid move and store that postion in `pos2`.\n",
        "\n",
        "        ❗condition2\n",
        "\n",
        "        Else if **selected_position + 2** is less than or equal to 6 and if **current_position + 2**\n",
        "        contains '-' and if **selected_position + 1** contains 'B' then it's a valid move  and store that postion in `pos2`.\n",
        "\n",
        "        ❗condition3:\n",
        "\n",
        "        Else remainig all are invalid, so print `Invalid Move`"
      ],
      "metadata": {
        "id": "a_9fNOpziLq1"
      },
      "execution_count": null,
      "outputs": []
    },
    {
      "cell_type": "code",
      "source": [
        "### your code here"
      ],
      "metadata": {
        "id": "UTAMayh9iO_1"
      },
      "execution_count": null,
      "outputs": []
    },
    {
      "cell_type": "code",
      "source": [
        " Check if the selected frog is 'B':\n",
        "\n",
        "        (Inside if when it's 'B'. As 'B' is selected frog can move to left only.)\n",
        "\n",
        "        ❗condition1:\n",
        "\n",
        "        If **selected_position - 1** is more than or equal to 0 and **curent_position - 1** contains '-' then\n",
        "        it's a valid move and and store that postion in `pos2`.\n",
        "\n",
        "        ❗condition2:\n",
        "\n",
        "        Else if **selected_position - 2** is more than or equal to 0 and if **current_position - 2** contains '-'\n",
        "        and if **selected_position - 1** contains 'G' then it's a valid move and and store that postion in `pos2`.\n",
        "\n",
        "        ❗condition3:\n",
        "\n",
        "        Else remainig all are invalid,, so print `Invalid Move`."
      ],
      "metadata": {
        "id": "ZSZ1kLzXiRDa"
      },
      "execution_count": null,
      "outputs": []
    },
    {
      "cell_type": "code",
      "source": [
        "### your code here"
      ],
      "metadata": {
        "id": "82cXYIdyiV-1"
      },
      "execution_count": null,
      "outputs": []
    },
    {
      "cell_type": "markdown",
      "source": [
        "Swap the element at selected positions and calculated position2 in the list.\n",
        "\n",
        "So basically we are moving the frog to next valid position by swapping elelments of array."
      ],
      "metadata": {
        "id": "cUH1fgfciZ44"
      }
    },
    {
      "cell_type": "code",
      "source": [
        "### your code here"
      ],
      "metadata": {
        "id": "AI30evXXicDK"
      },
      "execution_count": null,
      "outputs": []
    },
    {
      "cell_type": "markdown",
      "source": [
        "Now print the display of the game again to see the change.\n",
        "\n",
        "If we enter position 2 then the output will look like this:-"
      ],
      "metadata": {
        "id": "ZMzVcQnkieOb"
      }
    },
    {
      "cell_type": "code",
      "source": [
        "[ 0 ,  1 ,  2 ,  3 ,  4 ,  5 ,  6 ]\n",
        "['G', 'G', '-', 'G', 'B', 'B', 'B']"
      ],
      "metadata": {
        "id": "5hzALKFZihPc"
      },
      "execution_count": null,
      "outputs": []
    },
    {
      "cell_type": "code",
      "source": [
        "### your code here"
      ],
      "metadata": {
        "id": "5ToULJjHilxm"
      },
      "execution_count": null,
      "outputs": []
    },
    {
      "cell_type": "markdown",
      "source": [
        "\n",
        "Now the game should keep running until the player quits, so place all conditional statements inside an infinite loop.\n",
        "\n",
        "1.We have to```break``` the loop if the player presses ```q``` and quits.\n",
        "2.If the move made by player is```Invalid Move``` then we have to```continue```without executing remaining part of the selected iteration.\n",
        "3.If player wins the game we have to `break` the loop.\n",
        "\n",
        "\n",
        "\n",
        "```\n",
        "Infinite loop:\n",
        "    (inside loop)\n",
        "    1.Take input\n",
        "    2.Check all valid and invalid conditions of `pos`.\n",
        "    3.Make the appropriate move by calculating `pos2`.\n",
        "    4.Display game\n",
        "    4.Check winning condition\n",
        "```\n",
        "\n",
        "\n",
        "\n",
        "\n",
        "\n",
        "\n",
        "\n",
        "\n",
        "\n",
        "\n",
        "\n",
        "\n",
        "\n"
      ],
      "metadata": {
        "id": "J_ctMiraipaI"
      }
    },
    {
      "cell_type": "markdown",
      "source": [
        "Below is a documented version of the provided code, including explanations for each function and variable:"
      ],
      "metadata": {
        "id": "bW6YDhw0kD17"
      }
    },
    {
      "cell_type": "code",
      "source": [
        "# Step 1: Initialize the positions list\n",
        "positions = ['G', 'G', 'G', '-', 'B', 'B', 'B']\n",
        "\n",
        "# Step 2: Display the initial state of the game\n",
        "print(\"[ 0 , 1 , 2 , 3 , 4 , 5 , 6 ]\")\n",
        "print(positions)\n",
        "\n",
        "# Game Loop\n",
        "while True:\n",
        "    # Step 3: Take input from the user\n",
        "    move = input(\"Press 'q' to quit. Enter position of piece: \")\n",
        "\n",
        "    # Step 4: Check if the user wants to quit\n",
        "    if move.lower() == 'q':\n",
        "        print(\"You Lose\")\n",
        "        break  # Exit the loop if the user quits\n",
        "\n",
        "    # Step 5: Convert input to an integer\n",
        "    move = int(move)\n",
        "\n",
        "    # Step 6: Check for valid move\n",
        "    if move < 0 or move > 6:\n",
        "        print(\"Invalid move\")\n",
        "        continue  # Continue to the next iteration if the move is invalid\n",
        "\n",
        "    # Step 7: Check if the selected position contains a frog\n",
        "    if positions[move] == '-':\n",
        "        print(\"Invalid Move\")\n",
        "        continue  # Continue to the next iteration if the move is invalid\n",
        "\n",
        "    # Step 8: Initialize a variable empty_index to store the index of the empty leaf\n",
        "    empty_index = 0\n",
        "\n",
        "    # Step 9: Check if the selected frog is 'G' (Green)\n",
        "    if positions[move] == 'G':\n",
        "        # Condition 1\n",
        "        if move + 1 <= 6 and positions[move + 1] == '-':\n",
        "            empty_index = move + 1\n",
        "        # Condition 2\n",
        "        elif move + 2 <= 6 and positions[move + 2] == '-' and positions[move + 1] == 'B':\n",
        "            empty_index = move + 2\n",
        "        else:\n",
        "            print(\"Invalid Move\")\n",
        "            continue\n",
        "    # Step 10: Check if the selected frog is 'B' (Brown)\n",
        "    elif positions[move] == 'B':\n",
        "        # Condition 1\n",
        "        if move - 1 >= 0 and positions[move - 1] == '-':\n",
        "            empty_index = move - 1\n",
        "        # Condition 2\n",
        "        elif move - 2 >= 0 and positions[move - 2] == '-' and positions[move - 1] == 'G':\n",
        "            empty_index = move - 2\n",
        "        else:\n",
        "            print(\"Invalid Move\")\n",
        "            continue\n",
        "\n",
        "    # Step 11: Swap the elements at the selected position and empty_index\n",
        "    positions[move], positions[empty_index] = positions[empty_index], positions[move]\n",
        "\n",
        "    # Step 12: Display the updated game state\n",
        "    print(\"[ 0 , 1 , 2 , 3 , 4 , 5 , 6 ]\")\n",
        "    print(positions)\n",
        "\n",
        "    # Step 13: Check for winning condition\n",
        "    if positions == ['B', 'B', 'B', '-', 'G', 'G', 'G']:\n",
        "        print(\"You Win!\")\n",
        "        break  # Exit the loop if the player wins\n"
      ],
      "metadata": {
        "colab": {
          "base_uri": "https://localhost:8080/"
        },
        "id": "143TZYFZkGJr",
        "outputId": "5f7010b2-20f0-4699-afdb-2dc604b9a987"
      },
      "execution_count": null,
      "outputs": [
        {
          "output_type": "stream",
          "name": "stdout",
          "text": [
            "[ 0 , 1 , 2 , 3 , 4 , 5 , 6 ]\n",
            "['G', 'G', 'G', '-', 'B', 'B', 'B']\n",
            "Press 'q' to quit. Enter position of piece: 3\n",
            "Invalid Move\n",
            "Press 'q' to quit. Enter position of piece: 3\n",
            "Invalid Move\n",
            "Press 'q' to quit. Enter position of piece: 5\n",
            "Invalid Move\n",
            "Press 'q' to quit. Enter position of piece: 4\n",
            "[ 0 , 1 , 2 , 3 , 4 , 5 , 6 ]\n",
            "['G', 'G', 'G', 'B', '-', 'B', 'B']\n",
            "Press 'q' to quit. Enter position of piece: 2\n",
            "[ 0 , 1 , 2 , 3 , 4 , 5 , 6 ]\n",
            "['G', 'G', '-', 'B', 'G', 'B', 'B']\n",
            "Press 'q' to quit. Enter position of piece: 1\n",
            "[ 0 , 1 , 2 , 3 , 4 , 5 , 6 ]\n",
            "['G', '-', 'G', 'B', 'G', 'B', 'B']\n",
            "Press 'q' to quit. Enter position of piece: 3\n",
            "[ 0 , 1 , 2 , 3 , 4 , 5 , 6 ]\n",
            "['G', 'B', 'G', '-', 'G', 'B', 'B']\n",
            "Press 'q' to quit. Enter position of piece: 0\n",
            "Invalid Move\n"
          ]
        }
      ]
    },
    {
      "cell_type": "markdown",
      "source": [
        "This code implements the Frog Leap puzzle game, including comments for each step to explain the purpose and function of the code. No external references or inspirations were used for this simple console-based game."
      ],
      "metadata": {
        "id": "ppxE2wdekZfF"
      }
    }
  ]
}